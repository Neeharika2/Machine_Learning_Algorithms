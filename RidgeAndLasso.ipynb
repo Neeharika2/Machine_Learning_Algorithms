{
 "cells": [
  {
   "cell_type": "markdown",
   "id": "b64f54b9-7f5a-4e14-84f0-d49daa592146",
   "metadata": {},
   "source": [
    "# Ridge Regression"
   ]
  },
  {
   "cell_type": "code",
   "execution_count": 64,
   "id": "07a3026a-3971-40df-ad99-b33c3f873c13",
   "metadata": {},
   "outputs": [],
   "source": [
    "from sklearn.datasets import load_diabetes\n",
    "from sklearn.linear_model import Ridge, Lasso\n",
    "from sklearn.model_selection import GridSearchCV, train_test_split\n",
    "from sklearn.metrics import mean_squared_error\n",
    "import numpy as np"
   ]
  },
  {
   "cell_type": "code",
   "execution_count": 66,
   "id": "6a895c9b-42b4-4f96-85bf-c9bd096cafad",
   "metadata": {},
   "outputs": [],
   "source": [
    "data = load_diabetes()\n",
    "x = data.data\n",
    "y = data.target\n",
    "\n",
    "x_train, x_test, y_train, y_test = train_test_split(x, y, test_size = 0.2, random_state = 42)"
   ]
  },
  {
   "cell_type": "code",
   "execution_count": 68,
   "id": "bbf146d7-140f-4bc4-b6af-e11e57bd97e0",
   "metadata": {},
   "outputs": [],
   "source": [
    "param_grid = {'alpha' : [0.0001, 0.001, 0.01, 0.1, 1, 10, 100]}"
   ]
  },
  {
   "cell_type": "code",
   "execution_count": 70,
   "id": "932b78aa-144b-4f88-87c8-49b1feccb465",
   "metadata": {},
   "outputs": [],
   "source": [
    "ridge = Ridge()\n",
    "\n",
    "gridSearch = GridSearchCV(estimator = ridge, param_grid = param_grid, cv = 5, scoring = 'neg_mean_squared_error')\n",
    "gridSearch.fit(x_train, y_train)\n",
    "\n",
    "best_ridge = gridSearch.best_estimator_"
   ]
  },
  {
   "cell_type": "code",
   "execution_count": 72,
   "id": "821555c4-0940-42bf-8d2f-16898e251572",
   "metadata": {},
   "outputs": [
    {
     "name": "stdout",
     "output_type": "stream",
     "text": [
      "best alpha: {'alpha': 0.1}\n",
      "Test Mse: 2856.4868876706546\n",
      "best model coefficients: [  42.85566976 -205.49431899  505.08903304  317.0932049  -108.50026183\n",
      "  -86.23673333 -190.36318008  151.70708637  392.28931896   79.9081772 ]\n"
     ]
    }
   ],
   "source": [
    "y_pred = best_ridge.predict(x_test)\n",
    "\n",
    "mse = mean_squared_error(y_test, y_pred)\n",
    "print(\"best alpha:\", gridSearch.best_params_)\n",
    "print(\"Test Mse:\", mse)\n",
    "print(\"best model coefficients:\", best_ridge.coef_)"
   ]
  },
  {
   "cell_type": "markdown",
   "id": "6e5b165e-64e4-4ae0-95aa-e96d72aa05d3",
   "metadata": {},
   "source": [
    "# Lasso Regression"
   ]
  },
  {
   "cell_type": "code",
   "execution_count": 79,
   "id": "82c7b327-3108-47bd-9148-34464889efb4",
   "metadata": {},
   "outputs": [],
   "source": [
    "lasso = Lasso(max_iter = 10000)\n",
    "\n",
    "grid_search = GridSearchCV(estimator = lasso, param_grid = param_grid, cv = 5, scoring = 'neg_mean_squared_error')\n",
    "grid_search.fit(x_train, y_train)\n",
    "\n",
    "best_lasso = grid_search.best_estimator_"
   ]
  },
  {
   "cell_type": "code",
   "execution_count": 81,
   "id": "bcb8d189-e3af-478f-a9c3-0f9a4ae66ae0",
   "metadata": {},
   "outputs": [
    {
     "name": "stdout",
     "output_type": "stream",
     "text": [
      "best alpha: {'alpha': 0.1}\n",
      "Test Mse: 2798.1934851697188\n",
      "best model coefficients: [   0.         -152.66477923  552.69777529  303.36515791  -81.36500664\n",
      "   -0.         -229.25577639    0.          447.91952518   29.64261704]\n"
     ]
    }
   ],
   "source": [
    "y_Pred = best_lasso.predict(x_test)\n",
    "\n",
    "mse = mean_squared_error(y_test, y_Pred)\n",
    "print(\"best alpha:\", gridSearch.best_params_)\n",
    "print(\"Test Mse:\", mse)\n",
    "print(\"best model coefficients:\", best_lasso.coef_)"
   ]
  },
  {
   "cell_type": "code",
   "execution_count": null,
   "id": "44bc3f06-8e5e-40ba-b012-6f72078ab7da",
   "metadata": {},
   "outputs": [],
   "source": []
  }
 ],
 "metadata": {
  "kernelspec": {
   "display_name": "Python 3 (ipykernel)",
   "language": "python",
   "name": "python3"
  },
  "language_info": {
   "codemirror_mode": {
    "name": "ipython",
    "version": 3
   },
   "file_extension": ".py",
   "mimetype": "text/x-python",
   "name": "python",
   "nbconvert_exporter": "python",
   "pygments_lexer": "ipython3",
   "version": "3.12.4"
  }
 },
 "nbformat": 4,
 "nbformat_minor": 5
}
